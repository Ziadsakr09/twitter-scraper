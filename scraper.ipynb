{
 "cells": [
  {
   "cell_type": "code",
   "execution_count": null,
   "metadata": {},
   "outputs": [],
   "source": [
    "# install used libraries\n",
    "!pip install selenium bs4"
   ]
  },
  {
   "cell_type": "code",
   "execution_count": null,
   "metadata": {},
   "outputs": [],
   "source": [
    "# Import used libraries\n",
    "import time\n",
    "from selenium import webdriver\n",
    "from bs4 import BeautifulSoup\n"
   ]
  },
  {
   "cell_type": "code",
   "execution_count": null,
   "metadata": {},
   "outputs": [],
   "source": [
    "# Initialize the browser\n",
    "browser = webdriver.Firefox()  # Change to whichever webdriver you want to use\n",
    "\n",
    "# Set the base URL for Twitter \n",
    "base_url = \"https://twitter.com/\"\n",
    "\n",
    "# Open the URL in the browser\n",
    "browser.get(base_url)"
   ]
  },
  {
   "cell_type": "code",
   "execution_count": null,
   "metadata": {},
   "outputs": [],
   "source": [
    "# Function used to scrape the account for a symbol\n",
    "def scrape_account(username,symbol):\n",
    "    global counter\n",
    "    c=0\n",
    "    # Construct the complete URL\n",
    "    url = base_url + username\n",
    "\n",
    "    # Open the URL in the browser\n",
    "    browser.get(url)\n",
    "\n",
    "    # Wait for 10 seconds to allow the page to load\n",
    "    time.sleep(10)\n",
    "\n",
    "    # Get the html of the webpage\n",
    "    html = browser.page_source\n",
    "    soup = BeautifulSoup(html, 'html.parser')\n",
    "\n",
    "    # Get the text of the tweets\n",
    "    tweets = soup.findAll('span', class_=\"r-18u37iz\")\n",
    "\n",
    "    # Loop over each tweet text and check if it contains the symbol\n",
    "    for tweet in tweets:\n",
    "        if symbol.lower() in tweet.text.lower():            # Sometimes symbols are mentioned in lowercase\n",
    "            counter+=1\n",
    "            c+=1\n",
    "    \n",
    "    print(username,\" mentioned \",symbol,\" :\",c,\" times.\")\n",
    "        \n",
    "\n",
    "\n"
   ]
  },
  {
   "cell_type": "code",
   "execution_count": null,
   "metadata": {},
   "outputs": [],
   "source": [
    "# Accounts that should be scrapped\n",
    "usernames = [\n",
    "    \"Mr_Derivatives\",\n",
    "    \"warrior_0719\",\n",
    "    \"ChartingProdigy\",\n",
    "    \"allstarcharts\",\n",
    "    \"yuriymatso\",\n",
    "    \"TriggerTrades\",\n",
    "    \"AdamMancini4\",\n",
    "    \"CordovaTrades\",\n",
    "    \"Barchart\",\n",
    "    \"RoyLMattox\"\n",
    "]\n",
    "\n",
    "# Take stock symbol string input from user\n",
    "symbol = input(\"Enter a string: \")\n",
    "\n",
    "# Take interval time as integer input from user\n",
    "interval = int(input(\"Enter an integer: \"))\n",
    "\n",
    "# Initialize counters to count number of mentions of the symbol\n",
    "counter=0\n",
    "temp_counter=0\n",
    "\n",
    "while True:\n",
    "\n",
    "    # Loop over every account and scrape it\n",
    "    for username in usernames:\n",
    "        scrape_account(username,symbol)\n",
    "    \n",
    "    # Print the output   \n",
    "    # If there is no new tweets for the symbol after X interval the output will be zero \n",
    "    print(symbol, \" was mentioned \",counter-temp_counter,\" times in the last \",interval,\" minutes.\")\n",
    "\n",
    "    # temp_counter is used to get how many symbols are mentioned after X interval\n",
    "    # by comparing it to the previous count\n",
    "    temp_counter=counter\n",
    "\n",
    "    # Reset counter\n",
    "    counter=0\n",
    "\n",
    "    # Wait X minutes to start scraping session again\n",
    "    time.sleep(interval*60)\n"
   ]
  },
  {
   "cell_type": "code",
   "execution_count": null,
   "metadata": {},
   "outputs": [],
   "source": []
  }
 ],
 "metadata": {
  "kernelspec": {
   "display_name": "Python 3",
   "language": "python",
   "name": "python3"
  },
  "language_info": {
   "codemirror_mode": {
    "name": "ipython",
    "version": 3
   },
   "file_extension": ".py",
   "mimetype": "text/x-python",
   "name": "python",
   "nbconvert_exporter": "python",
   "pygments_lexer": "ipython3",
   "version": "3.10.0"
  }
 },
 "nbformat": 4,
 "nbformat_minor": 2
}
